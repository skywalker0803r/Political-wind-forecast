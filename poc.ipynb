{
 "cells": [
  {
   "cell_type": "code",
   "execution_count": 5,
   "metadata": {},
   "outputs": [],
   "source": [
    "import requests \n",
    "import bs4\n",
    "from tqdm import tqdm_notebook as tqdm\n",
    "import pandas as pd\n",
    "\n",
    "# help function\n",
    "def get_content(soup):\n",
    "    ## 查找所有html 元素 抓出內容\n",
    "    main_container = soup.find(id='main-container')\n",
    "    # 把所有文字都抓出來\n",
    "    all_text = main_container.text\n",
    "    # 把整個內容切割透過 \"-- \" 切割成2個陣列\n",
    "    pre_text = all_text.split('--')[0]\n",
    "    # 把每段文字 根據 '\\n' 切開\n",
    "    texts = pre_text.split('\\n')\n",
    "    # 如果你爬多篇你會發現 \n",
    "    contents = texts[2:]\n",
    "    # 內容\n",
    "    content = ''.join(contents)\n",
    "    return content\n",
    "\n",
    "def get_total_page_number(URL):\n",
    "    response = requests.get(URL, headers = {'cookie': 'over18=1;'})\n",
    "    soup = bs4.BeautifulSoup(response.text,\"html.parser\")\n",
    "    number = int(str(soup.select('#action-bar-container > div > div.btn-group.btn-group-paging > a:nth-child(2)')[0]).split('index')[1].split('.html')[0])\n",
    "    return number\n",
    "\n",
    "\n",
    "def get_this_index_data(URL):\n",
    "    # 設定Header與Cookie\n",
    "    my_headers = {'cookie': 'over18=1;'}\n",
    "    # 發送get 請求 到 ptt 八卦版\n",
    "    response = requests.get(URL, headers = my_headers)\n",
    "\n",
    "    #  把網頁程式碼(HTML) 丟入 bs4模組分析\n",
    "    soup = bs4.BeautifulSoup(response.text,\"html.parser\")\n",
    "\n",
    "    ## PTT 上方4個欄位\n",
    "    result = soup.find_all('div','title')\n",
    "    urls = []\n",
    "    titles = []\n",
    "    contents = []\n",
    "    for i in result:\n",
    "        try:\n",
    "            post_url = 'https://www.ptt.cc'+str(i).split('href=\"')[1].split('\">')[0]\n",
    "            urls.append(post_url)\n",
    "            titles.append(str(i).split(\"]\")[1].split(\"<\")[0])\n",
    "            response = requests.get(post_url, headers = my_headers)\n",
    "            soup = bs4.BeautifulSoup(response.text,\"html.parser\")\n",
    "            contents.append(get_content(soup))\n",
    "        except:\n",
    "            pass #(本文已被刪除)\n",
    "    df = pd.DataFrame()\n",
    "    df['title'] = titles\n",
    "    df['url'] = urls\n",
    "    df['content'] = contents\n",
    "    return df\n",
    "\n",
    "def get_some_page_ptt_data(URL,last_n_page):\n",
    "    total_page_number = get_total_page_number(URL)\n",
    "    URLS = [f\"https://www.ptt.cc/bbs/HatePolitics/index{i}.html\" for i in range(total_page_number,total_page_number-last_n_page,-1)]\n",
    "    df = get_this_index_data(URL) #最新的PAGE\n",
    "    for u in tqdm(URLS): #最近N個PAGE\n",
    "        d = get_this_index_data(u)\n",
    "        df = pd.concat([df,d]) #串起來\n",
    "    return df\n",
    "\n"
   ]
  },
  {
   "attachments": {},
   "cell_type": "markdown",
   "metadata": {},
   "source": [
    "# 爬蟲抓取資料"
   ]
  },
  {
   "cell_type": "code",
   "execution_count": 8,
   "metadata": {},
   "outputs": [
    {
     "name": "stderr",
     "output_type": "stream",
     "text": [
      "C:\\Users\\Administrator\\AppData\\Local\\Temp\\ipykernel_6500\\306101296.py:63: TqdmDeprecationWarning: This function will be removed in tqdm==5.0.0\n",
      "Please use `tqdm.notebook.tqdm` instead of `tqdm.tqdm_notebook`\n",
      "  for u in tqdm(URLS): #最近N個PAGE\n"
     ]
    },
    {
     "data": {
      "application/vnd.jupyter.widget-view+json": {
       "model_id": "e8b9a180c58a44c0995ed00c684b4804",
       "version_major": 2,
       "version_minor": 0
      },
      "text/plain": [
       "  0%|          | 0/30 [00:00<?, ?it/s]"
      ]
     },
     "metadata": {},
     "output_type": "display_data"
    }
   ],
   "source": [
    "URL = \"https://www.ptt.cc/bbs/HatePolitics/index.html\"\n",
    "last_n_page = 30\n",
    "df = get_some_page_ptt_data(URL,last_n_page)"
   ]
  },
  {
   "attachments": {},
   "cell_type": "markdown",
   "metadata": {},
   "source": [
    "# 保存"
   ]
  },
  {
   "cell_type": "code",
   "execution_count": 21,
   "metadata": {},
   "outputs": [
    {
     "data": {
      "text/html": [
       "<div>\n",
       "<style scoped>\n",
       "    .dataframe tbody tr th:only-of-type {\n",
       "        vertical-align: middle;\n",
       "    }\n",
       "\n",
       "    .dataframe tbody tr th {\n",
       "        vertical-align: top;\n",
       "    }\n",
       "\n",
       "    .dataframe thead th {\n",
       "        text-align: right;\n",
       "    }\n",
       "</style>\n",
       "<table border=\"1\" class=\"dataframe\">\n",
       "  <thead>\n",
       "    <tr style=\"text-align: right;\">\n",
       "      <th></th>\n",
       "      <th>title</th>\n",
       "      <th>url</th>\n",
       "      <th>content</th>\n",
       "    </tr>\n",
       "  </thead>\n",
       "  <tbody>\n",
       "    <tr>\n",
       "      <th>0</th>\n",
       "      <td>紐時：FBI介入 美國加強打擊中國海外警</td>\n",
       "      <td>https://www.ptt.cc/bbs/HatePolitics/M.16735664...</td>\n",
       "      <td>1.新聞網址︰※ 網址超過一行 請縮網址 ※https://bit.ly/3GCghpg2....</td>\n",
       "    </tr>\n",
       "    <tr>\n",
       "      <th>1</th>\n",
       "      <td>邱顯智 FB</td>\n",
       "      <td>https://www.ptt.cc/bbs/HatePolitics/M.16735665...</td>\n",
       "      <td>1.轉錄網址︰https://bit.ly/3vYUHq1※ 網址超過一行 請縮網址 ※2....</td>\n",
       "    </tr>\n",
       "    <tr>\n",
       "      <th>2</th>\n",
       "      <td>林余案筆記</td>\n",
       "      <td>https://www.ptt.cc/bbs/HatePolitics/M.16735666...</td>\n",
       "      <td>昨天，完整答辯書已經出來，https://tinyurl.com/yztu9zm3關鍵1.2...</td>\n",
       "    </tr>\n",
       "    <tr>\n",
       "      <th>3</th>\n",
       "      <td>政治黑特板板規__20220803</td>\n",
       "      <td>https://www.ptt.cc/bbs/HatePolitics/M.16595039...</td>\n",
       "      <td>╭──────╮│第一章 總則│╰──────╯￣￣￣￣￣￣￣￣1.本板接受中華民國政府頒布...</td>\n",
       "    </tr>\n",
       "    <tr>\n",
       "      <th>4</th>\n",
       "      <td>請大家發文前 多注意板規</td>\n",
       "      <td>https://www.ptt.cc/bbs/HatePolitics/M.16725574...</td>\n",
       "      <td>餓死抬頭請大家發文前多注意一下板規文章分類內文之前就有設定範本 參考尤其最多人違規的 發文相...</td>\n",
       "    </tr>\n",
       "    <tr>\n",
       "      <th>...</th>\n",
       "      <td>...</td>\n",
       "      <td>...</td>\n",
       "      <td>...</td>\n",
       "    </tr>\n",
       "    <tr>\n",
       "      <th>15</th>\n",
       "      <td>為什麼不一開始處理余正煌？</td>\n",
       "      <td>https://www.ptt.cc/bbs/HatePolitics/M.16734473...</td>\n",
       "      <td>套句電影臺詞，兩種東西沒價1是正義，2是老子不願意余這不好收買，首先就是你收買他，但塔綠斑們...</td>\n",
       "    </tr>\n",
       "    <tr>\n",
       "      <th>16</th>\n",
       "      <td>就算小智有抄襲 但沒有違反著作權 怎解?</td>\n",
       "      <td>https://www.ptt.cc/bbs/HatePolitics/M.16734474...</td>\n",
       "      <td>現在小智請來著作權大律師上場 大律師有多大?就連法官在學期間讀的書 說不定都是那位大律師寫的...</td>\n",
       "    </tr>\n",
       "    <tr>\n",
       "      <th>17</th>\n",
       "      <td>為什麼林耕仁沒有出來戰清白？</td>\n",
       "      <td>https://www.ptt.cc/bbs/HatePolitics/M.16734474...</td>\n",
       "      <td>眾所周知 在跨年前林耕仁的陽明交通大學碩士論文也被撤銷了 林耕仁就淡淡的回尊重學倫會審查結果...</td>\n",
       "    </tr>\n",
       "    <tr>\n",
       "      <th>18</th>\n",
       "      <td>論文出包還有許淑華！修正這天到期 逢甲</td>\n",
       "      <td>https://www.ptt.cc/bbs/HatePolitics/M.16734476...</td>\n",
       "      <td>論文出包還有許淑華！修正這天到期 逢甲：若沒收到撤學位〔記者蘇孟娟／台中報導〕前新竹市長林智...</td>\n",
       "    </tr>\n",
       "    <tr>\n",
       "      <th>19</th>\n",
       "      <td>澄清湖畔蓋豪宅 民團抗議促撤案</td>\n",
       "      <td>https://www.ptt.cc/bbs/HatePolitics/M.16734477...</td>\n",
       "      <td>笑死  綠共執政到哪  炒房就炒到哪  讓類牙醫這種黨的高官大賺出場    ...</td>\n",
       "    </tr>\n",
       "  </tbody>\n",
       "</table>\n",
       "<p>597 rows × 3 columns</p>\n",
       "</div>"
      ],
      "text/plain": [
       "                    title                                                url  \\\n",
       "0    紐時：FBI介入 美國加強打擊中國海外警  https://www.ptt.cc/bbs/HatePolitics/M.16735664...   \n",
       "1                  邱顯智 FB  https://www.ptt.cc/bbs/HatePolitics/M.16735665...   \n",
       "2                   林余案筆記  https://www.ptt.cc/bbs/HatePolitics/M.16735666...   \n",
       "3       政治黑特板板規__20220803  https://www.ptt.cc/bbs/HatePolitics/M.16595039...   \n",
       "4            請大家發文前 多注意板規  https://www.ptt.cc/bbs/HatePolitics/M.16725574...   \n",
       "..                    ...                                                ...   \n",
       "15          為什麼不一開始處理余正煌？  https://www.ptt.cc/bbs/HatePolitics/M.16734473...   \n",
       "16   就算小智有抄襲 但沒有違反著作權 怎解?  https://www.ptt.cc/bbs/HatePolitics/M.16734474...   \n",
       "17         為什麼林耕仁沒有出來戰清白？  https://www.ptt.cc/bbs/HatePolitics/M.16734474...   \n",
       "18    論文出包還有許淑華！修正這天到期 逢甲  https://www.ptt.cc/bbs/HatePolitics/M.16734476...   \n",
       "19        澄清湖畔蓋豪宅 民團抗議促撤案  https://www.ptt.cc/bbs/HatePolitics/M.16734477...   \n",
       "\n",
       "                                              content  \n",
       "0   1.新聞網址︰※ 網址超過一行 請縮網址 ※https://bit.ly/3GCghpg2....  \n",
       "1   1.轉錄網址︰https://bit.ly/3vYUHq1※ 網址超過一行 請縮網址 ※2....  \n",
       "2   昨天，完整答辯書已經出來，https://tinyurl.com/yztu9zm3關鍵1.2...  \n",
       "3   ╭──────╮│第一章 總則│╰──────╯￣￣￣￣￣￣￣￣1.本板接受中華民國政府頒布...  \n",
       "4   餓死抬頭請大家發文前多注意一下板規文章分類內文之前就有設定範本 參考尤其最多人違規的 發文相...  \n",
       "..                                                ...  \n",
       "15  套句電影臺詞，兩種東西沒價1是正義，2是老子不願意余這不好收買，首先就是你收買他，但塔綠斑們...  \n",
       "16  現在小智請來著作權大律師上場 大律師有多大?就連法官在學期間讀的書 說不定都是那位大律師寫的...  \n",
       "17  眾所周知 在跨年前林耕仁的陽明交通大學碩士論文也被撤銷了 林耕仁就淡淡的回尊重學倫會審查結果...  \n",
       "18  論文出包還有許淑華！修正這天到期 逢甲：若沒收到撤學位〔記者蘇孟娟／台中報導〕前新竹市長林智...  \n",
       "19          笑死  綠共執政到哪  炒房就炒到哪  讓類牙醫這種黨的高官大賺出場    ...  \n",
       "\n",
       "[597 rows x 3 columns]"
      ]
     },
     "execution_count": 21,
     "metadata": {},
     "output_type": "execute_result"
    }
   ],
   "source": [
    "df.to_excel('ptt_post.xlsx')\n",
    "df"
   ]
  },
  {
   "cell_type": "code",
   "execution_count": 22,
   "metadata": {},
   "outputs": [
    {
     "data": {
      "text/html": [
       "<div>\n",
       "<style scoped>\n",
       "    .dataframe tbody tr th:only-of-type {\n",
       "        vertical-align: middle;\n",
       "    }\n",
       "\n",
       "    .dataframe tbody tr th {\n",
       "        vertical-align: top;\n",
       "    }\n",
       "\n",
       "    .dataframe thead th {\n",
       "        text-align: right;\n",
       "    }\n",
       "</style>\n",
       "<table border=\"1\" class=\"dataframe\">\n",
       "  <thead>\n",
       "    <tr style=\"text-align: right;\">\n",
       "      <th></th>\n",
       "      <th>title</th>\n",
       "      <th>url</th>\n",
       "      <th>content</th>\n",
       "      <th>all_text</th>\n",
       "    </tr>\n",
       "  </thead>\n",
       "  <tbody>\n",
       "    <tr>\n",
       "      <th>0</th>\n",
       "      <td>紐時：FBI介入 美國加強打擊中國海外警</td>\n",
       "      <td>https://www.ptt.cc/bbs/HatePolitics/M.16735664...</td>\n",
       "      <td>1.新聞網址︰※ 網址超過一行 請縮網址 ※https://bit.ly/3GCghpg2....</td>\n",
       "      <td>紐時：FBI介入 美國加強打擊中國海外警1.新聞網址︰※ 網址超過一行 請縮網址 ※htt...</td>\n",
       "    </tr>\n",
       "    <tr>\n",
       "      <th>1</th>\n",
       "      <td>邱顯智 FB</td>\n",
       "      <td>https://www.ptt.cc/bbs/HatePolitics/M.16735665...</td>\n",
       "      <td>1.轉錄網址︰https://bit.ly/3vYUHq1※ 網址超過一行 請縮網址 ※2....</td>\n",
       "      <td>邱顯智 FB1.轉錄網址︰https://bit.ly/3vYUHq1※ 網址超過一行 請...</td>\n",
       "    </tr>\n",
       "    <tr>\n",
       "      <th>2</th>\n",
       "      <td>林余案筆記</td>\n",
       "      <td>https://www.ptt.cc/bbs/HatePolitics/M.16735666...</td>\n",
       "      <td>昨天，完整答辯書已經出來，https://tinyurl.com/yztu9zm3關鍵1.2...</td>\n",
       "      <td>林余案筆記昨天，完整答辯書已經出來，https://tinyurl.com/yztu9zm...</td>\n",
       "    </tr>\n",
       "    <tr>\n",
       "      <th>3</th>\n",
       "      <td>政治黑特板板規__20220803</td>\n",
       "      <td>https://www.ptt.cc/bbs/HatePolitics/M.16595039...</td>\n",
       "      <td>╭──────╮│第一章 總則│╰──────╯￣￣￣￣￣￣￣￣1.本板接受中華民國政府頒布...</td>\n",
       "      <td>政治黑特板板規__20220803╭──────╮│第一章 總則│╰──────╯￣￣￣￣...</td>\n",
       "    </tr>\n",
       "    <tr>\n",
       "      <th>4</th>\n",
       "      <td>請大家發文前 多注意板規</td>\n",
       "      <td>https://www.ptt.cc/bbs/HatePolitics/M.16725574...</td>\n",
       "      <td>餓死抬頭請大家發文前多注意一下板規文章分類內文之前就有設定範本 參考尤其最多人違規的 發文相...</td>\n",
       "      <td>請大家發文前 多注意板規餓死抬頭請大家發文前多注意一下板規文章分類內文之前就有設定範本 參...</td>\n",
       "    </tr>\n",
       "    <tr>\n",
       "      <th>...</th>\n",
       "      <td>...</td>\n",
       "      <td>...</td>\n",
       "      <td>...</td>\n",
       "      <td>...</td>\n",
       "    </tr>\n",
       "    <tr>\n",
       "      <th>15</th>\n",
       "      <td>為什麼不一開始處理余正煌？</td>\n",
       "      <td>https://www.ptt.cc/bbs/HatePolitics/M.16734473...</td>\n",
       "      <td>套句電影臺詞，兩種東西沒價1是正義，2是老子不願意余這不好收買，首先就是你收買他，但塔綠斑們...</td>\n",
       "      <td>為什麼不一開始處理余正煌？套句電影臺詞，兩種東西沒價1是正義，2是老子不願意余這不好收買，...</td>\n",
       "    </tr>\n",
       "    <tr>\n",
       "      <th>16</th>\n",
       "      <td>就算小智有抄襲 但沒有違反著作權 怎解?</td>\n",
       "      <td>https://www.ptt.cc/bbs/HatePolitics/M.16734474...</td>\n",
       "      <td>現在小智請來著作權大律師上場 大律師有多大?就連法官在學期間讀的書 說不定都是那位大律師寫的...</td>\n",
       "      <td>就算小智有抄襲 但沒有違反著作權 怎解?現在小智請來著作權大律師上場 大律師有多大?就連法...</td>\n",
       "    </tr>\n",
       "    <tr>\n",
       "      <th>17</th>\n",
       "      <td>為什麼林耕仁沒有出來戰清白？</td>\n",
       "      <td>https://www.ptt.cc/bbs/HatePolitics/M.16734474...</td>\n",
       "      <td>眾所周知 在跨年前林耕仁的陽明交通大學碩士論文也被撤銷了 林耕仁就淡淡的回尊重學倫會審查結果...</td>\n",
       "      <td>為什麼林耕仁沒有出來戰清白？眾所周知 在跨年前林耕仁的陽明交通大學碩士論文也被撤銷了 林耕...</td>\n",
       "    </tr>\n",
       "    <tr>\n",
       "      <th>18</th>\n",
       "      <td>論文出包還有許淑華！修正這天到期 逢甲</td>\n",
       "      <td>https://www.ptt.cc/bbs/HatePolitics/M.16734476...</td>\n",
       "      <td>論文出包還有許淑華！修正這天到期 逢甲：若沒收到撤學位〔記者蘇孟娟／台中報導〕前新竹市長林智...</td>\n",
       "      <td>論文出包還有許淑華！修正這天到期 逢甲論文出包還有許淑華！修正這天到期 逢甲：若沒收到撤學...</td>\n",
       "    </tr>\n",
       "    <tr>\n",
       "      <th>19</th>\n",
       "      <td>澄清湖畔蓋豪宅 民團抗議促撤案</td>\n",
       "      <td>https://www.ptt.cc/bbs/HatePolitics/M.16734477...</td>\n",
       "      <td>笑死  綠共執政到哪  炒房就炒到哪  讓類牙醫這種黨的高官大賺出場    ...</td>\n",
       "      <td>澄清湖畔蓋豪宅 民團抗議促撤案        笑死  綠共執政到哪  炒房就炒到哪  讓類...</td>\n",
       "    </tr>\n",
       "  </tbody>\n",
       "</table>\n",
       "<p>597 rows × 4 columns</p>\n",
       "</div>"
      ],
      "text/plain": [
       "                    title                                                url  \\\n",
       "0    紐時：FBI介入 美國加強打擊中國海外警  https://www.ptt.cc/bbs/HatePolitics/M.16735664...   \n",
       "1                  邱顯智 FB  https://www.ptt.cc/bbs/HatePolitics/M.16735665...   \n",
       "2                   林余案筆記  https://www.ptt.cc/bbs/HatePolitics/M.16735666...   \n",
       "3       政治黑特板板規__20220803  https://www.ptt.cc/bbs/HatePolitics/M.16595039...   \n",
       "4            請大家發文前 多注意板規  https://www.ptt.cc/bbs/HatePolitics/M.16725574...   \n",
       "..                    ...                                                ...   \n",
       "15          為什麼不一開始處理余正煌？  https://www.ptt.cc/bbs/HatePolitics/M.16734473...   \n",
       "16   就算小智有抄襲 但沒有違反著作權 怎解?  https://www.ptt.cc/bbs/HatePolitics/M.16734474...   \n",
       "17         為什麼林耕仁沒有出來戰清白？  https://www.ptt.cc/bbs/HatePolitics/M.16734474...   \n",
       "18    論文出包還有許淑華！修正這天到期 逢甲  https://www.ptt.cc/bbs/HatePolitics/M.16734476...   \n",
       "19        澄清湖畔蓋豪宅 民團抗議促撤案  https://www.ptt.cc/bbs/HatePolitics/M.16734477...   \n",
       "\n",
       "                                              content  \\\n",
       "0   1.新聞網址︰※ 網址超過一行 請縮網址 ※https://bit.ly/3GCghpg2....   \n",
       "1   1.轉錄網址︰https://bit.ly/3vYUHq1※ 網址超過一行 請縮網址 ※2....   \n",
       "2   昨天，完整答辯書已經出來，https://tinyurl.com/yztu9zm3關鍵1.2...   \n",
       "3   ╭──────╮│第一章 總則│╰──────╯￣￣￣￣￣￣￣￣1.本板接受中華民國政府頒布...   \n",
       "4   餓死抬頭請大家發文前多注意一下板規文章分類內文之前就有設定範本 參考尤其最多人違規的 發文相...   \n",
       "..                                                ...   \n",
       "15  套句電影臺詞，兩種東西沒價1是正義，2是老子不願意余這不好收買，首先就是你收買他，但塔綠斑們...   \n",
       "16  現在小智請來著作權大律師上場 大律師有多大?就連法官在學期間讀的書 說不定都是那位大律師寫的...   \n",
       "17  眾所周知 在跨年前林耕仁的陽明交通大學碩士論文也被撤銷了 林耕仁就淡淡的回尊重學倫會審查結果...   \n",
       "18  論文出包還有許淑華！修正這天到期 逢甲：若沒收到撤學位〔記者蘇孟娟／台中報導〕前新竹市長林智...   \n",
       "19          笑死  綠共執政到哪  炒房就炒到哪  讓類牙醫這種黨的高官大賺出場    ...   \n",
       "\n",
       "                                             all_text  \n",
       "0    紐時：FBI介入 美國加強打擊中國海外警1.新聞網址︰※ 網址超過一行 請縮網址 ※htt...  \n",
       "1    邱顯智 FB1.轉錄網址︰https://bit.ly/3vYUHq1※ 網址超過一行 請...  \n",
       "2    林余案筆記昨天，完整答辯書已經出來，https://tinyurl.com/yztu9zm...  \n",
       "3    政治黑特板板規__20220803╭──────╮│第一章 總則│╰──────╯￣￣￣￣...  \n",
       "4    請大家發文前 多注意板規餓死抬頭請大家發文前多注意一下板規文章分類內文之前就有設定範本 參...  \n",
       "..                                                ...  \n",
       "15   為什麼不一開始處理余正煌？套句電影臺詞，兩種東西沒價1是正義，2是老子不願意余這不好收買，...  \n",
       "16   就算小智有抄襲 但沒有違反著作權 怎解?現在小智請來著作權大律師上場 大律師有多大?就連法...  \n",
       "17   為什麼林耕仁沒有出來戰清白？眾所周知 在跨年前林耕仁的陽明交通大學碩士論文也被撤銷了 林耕...  \n",
       "18   論文出包還有許淑華！修正這天到期 逢甲論文出包還有許淑華！修正這天到期 逢甲：若沒收到撤學...  \n",
       "19   澄清湖畔蓋豪宅 民團抗議促撤案        笑死  綠共執政到哪  炒房就炒到哪  讓類...  \n",
       "\n",
       "[597 rows x 4 columns]"
      ]
     },
     "execution_count": 22,
     "metadata": {},
     "output_type": "execute_result"
    }
   ],
   "source": [
    "df['all_text'] = df['title']+df['content']\n",
    "df"
   ]
  },
  {
   "cell_type": "code",
   "execution_count": 63,
   "metadata": {},
   "outputs": [],
   "source": [
    "def get_score_by_person(df,person_name):\n",
    "    idx_lst = []\n",
    "    for idx,text in enumerate(df['all_text']):\n",
    "        if person_name in text:\n",
    "            idx_lst.append(idx)\n",
    "    key_df = df.iloc[idx_lst,:]\n",
    "    key_df = key_df.reset_index(drop=True)\n",
    "    print(len(key_df))\n",
    "    key_df['情緒'] = 0\n",
    "    for idx,text in tqdm(enumerate(key_df['all_text'].values.tolist())):\n",
    "        key_df.loc[idx,'情緒'] = classifier(text, candidate_labels)['labels'][0]\n",
    "    score = (key_df['情緒']=='positive').sum()/(key_df['情緒']=='negative').sum()\n",
    "    return score"
   ]
  },
  {
   "cell_type": "code",
   "execution_count": 29,
   "metadata": {},
   "outputs": [
    {
     "name": "stderr",
     "output_type": "stream",
     "text": [
      "No model was supplied, defaulted to facebook/bart-large-mnli and revision c626438 (https://huggingface.co/facebook/bart-large-mnli).\n",
      "Using a pipeline without specifying a model name and revision in production is not recommended.\n"
     ]
    },
    {
     "data": {
      "application/vnd.jupyter.widget-view+json": {
       "model_id": "fc617702356d44319ac79c965d668749",
       "version_major": 2,
       "version_minor": 0
      },
      "text/plain": [
       "Downloading:   0%|          | 0.00/1.15k [00:00<?, ?B/s]"
      ]
     },
     "metadata": {},
     "output_type": "display_data"
    },
    {
     "data": {
      "application/vnd.jupyter.widget-view+json": {
       "model_id": "c406def3094244919045b4c4c4ee3f69",
       "version_major": 2,
       "version_minor": 0
      },
      "text/plain": [
       "Downloading:   0%|          | 0.00/1.63G [00:00<?, ?B/s]"
      ]
     },
     "metadata": {},
     "output_type": "display_data"
    },
    {
     "data": {
      "application/vnd.jupyter.widget-view+json": {
       "model_id": "2279cd114e37498cad604e47343e098a",
       "version_major": 2,
       "version_minor": 0
      },
      "text/plain": [
       "Downloading:   0%|          | 0.00/26.0 [00:00<?, ?B/s]"
      ]
     },
     "metadata": {},
     "output_type": "display_data"
    },
    {
     "data": {
      "application/vnd.jupyter.widget-view+json": {
       "model_id": "a1688af9c8e949368e40c1230549572a",
       "version_major": 2,
       "version_minor": 0
      },
      "text/plain": [
       "Downloading:   0%|          | 0.00/899k [00:00<?, ?B/s]"
      ]
     },
     "metadata": {},
     "output_type": "display_data"
    },
    {
     "data": {
      "application/vnd.jupyter.widget-view+json": {
       "model_id": "9a0b1c3e6ebb4af1961756a41e0ba3a4",
       "version_major": 2,
       "version_minor": 0
      },
      "text/plain": [
       "Downloading:   0%|          | 0.00/456k [00:00<?, ?B/s]"
      ]
     },
     "metadata": {},
     "output_type": "display_data"
    },
    {
     "data": {
      "application/vnd.jupyter.widget-view+json": {
       "model_id": "f2bc2ffcd58d48159d2537fa2eed1b85",
       "version_major": 2,
       "version_minor": 0
      },
      "text/plain": [
       "Downloading:   0%|          | 0.00/1.36M [00:00<?, ?B/s]"
      ]
     },
     "metadata": {},
     "output_type": "display_data"
    },
    {
     "data": {
      "text/plain": [
       "{'sequence': \"I don't know why I like this movie so well, but I never get tired of watching it.\",\n",
       " 'labels': ['positive', 'negative'],\n",
       " 'scores': [0.8987417221069336, 0.101258285343647]}"
      ]
     },
     "execution_count": 29,
     "metadata": {},
     "output_type": "execute_result"
    }
   ],
   "source": [
    "from transformers import pipeline\n",
    "classifier = pipeline(\"zero-shot-classification\", device=0) #GPU\n",
    "candidate_labels = [\"positive\", \"negative\"]\n",
    "text = \"I don't know why I like this movie so well, but I never get tired of watching it.\"\n",
    "classifier(text, candidate_labels)"
   ]
  },
  {
   "cell_type": "code",
   "execution_count": 64,
   "metadata": {},
   "outputs": [
    {
     "name": "stdout",
     "output_type": "stream",
     "text": [
      "39\n"
     ]
    },
    {
     "name": "stderr",
     "output_type": "stream",
     "text": [
      "C:\\Users\\Administrator\\AppData\\Local\\Temp\\ipykernel_6500\\684795557.py:10: TqdmDeprecationWarning: This function will be removed in tqdm==5.0.0\n",
      "Please use `tqdm.notebook.tqdm` instead of `tqdm.tqdm_notebook`\n",
      "  for idx,text in tqdm(enumerate(key_df['all_text'].values.tolist())):\n"
     ]
    },
    {
     "data": {
      "application/vnd.jupyter.widget-view+json": {
       "model_id": "cdca3a6856cc40c0af888734605eb9ff",
       "version_major": 2,
       "version_minor": 0
      },
      "text/plain": [
       "0it [00:00, ?it/s]"
      ]
     },
     "metadata": {},
     "output_type": "display_data"
    },
    {
     "name": "stderr",
     "output_type": "stream",
     "text": [
      "c:\\Users\\Administrator\\anaconda3\\lib\\site-packages\\transformers\\pipelines\\base.py:1043: UserWarning: You seem to be using the pipelines sequentially on GPU. In order to maximize efficiency please use a dataset\n",
      "  warnings.warn(\n"
     ]
    },
    {
     "data": {
      "text/plain": [
       "0.95"
      ]
     },
     "execution_count": 64,
     "metadata": {},
     "output_type": "execute_result"
    }
   ],
   "source": [
    "get_score_by_person(df,person_name='蔡英文')"
   ]
  },
  {
   "cell_type": "code",
   "execution_count": 65,
   "metadata": {},
   "outputs": [
    {
     "name": "stdout",
     "output_type": "stream",
     "text": [
      "68\n"
     ]
    },
    {
     "name": "stderr",
     "output_type": "stream",
     "text": [
      "C:\\Users\\Administrator\\AppData\\Local\\Temp\\ipykernel_6500\\684795557.py:10: TqdmDeprecationWarning: This function will be removed in tqdm==5.0.0\n",
      "Please use `tqdm.notebook.tqdm` instead of `tqdm.tqdm_notebook`\n",
      "  for idx,text in tqdm(enumerate(key_df['all_text'].values.tolist())):\n"
     ]
    },
    {
     "data": {
      "application/vnd.jupyter.widget-view+json": {
       "model_id": "f489365202d243568d1564ee52aafff5",
       "version_major": 2,
       "version_minor": 0
      },
      "text/plain": [
       "0it [00:00, ?it/s]"
      ]
     },
     "metadata": {},
     "output_type": "display_data"
    },
    {
     "name": "stderr",
     "output_type": "stream",
     "text": [
      "c:\\Users\\Administrator\\anaconda3\\lib\\site-packages\\transformers\\pipelines\\base.py:1043: UserWarning: You seem to be using the pipelines sequentially on GPU. In order to maximize efficiency please use a dataset\n",
      "  warnings.warn(\n"
     ]
    },
    {
     "data": {
      "text/plain": [
       "0.5111111111111111"
      ]
     },
     "execution_count": 65,
     "metadata": {},
     "output_type": "execute_result"
    }
   ],
   "source": [
    "get_score_by_person(df,person_name='林智堅')"
   ]
  },
  {
   "cell_type": "code",
   "execution_count": 66,
   "metadata": {},
   "outputs": [
    {
     "name": "stdout",
     "output_type": "stream",
     "text": [
      "11\n"
     ]
    },
    {
     "name": "stderr",
     "output_type": "stream",
     "text": [
      "C:\\Users\\Administrator\\AppData\\Local\\Temp\\ipykernel_6500\\684795557.py:10: TqdmDeprecationWarning: This function will be removed in tqdm==5.0.0\n",
      "Please use `tqdm.notebook.tqdm` instead of `tqdm.tqdm_notebook`\n",
      "  for idx,text in tqdm(enumerate(key_df['all_text'].values.tolist())):\n"
     ]
    },
    {
     "data": {
      "application/vnd.jupyter.widget-view+json": {
       "model_id": "04363e822e0a48bca4c98eef25c9f582",
       "version_major": 2,
       "version_minor": 0
      },
      "text/plain": [
       "0it [00:00, ?it/s]"
      ]
     },
     "metadata": {},
     "output_type": "display_data"
    },
    {
     "name": "stderr",
     "output_type": "stream",
     "text": [
      "c:\\Users\\Administrator\\anaconda3\\lib\\site-packages\\transformers\\pipelines\\base.py:1043: UserWarning: You seem to be using the pipelines sequentially on GPU. In order to maximize efficiency please use a dataset\n",
      "  warnings.warn(\n"
     ]
    },
    {
     "data": {
      "text/plain": [
       "0.375"
      ]
     },
     "execution_count": 66,
     "metadata": {},
     "output_type": "execute_result"
    }
   ],
   "source": [
    "get_score_by_person(df,person_name='陳時中')"
   ]
  },
  {
   "cell_type": "code",
   "execution_count": null,
   "metadata": {},
   "outputs": [],
   "source": []
  }
 ],
 "metadata": {
  "kernelspec": {
   "display_name": "base",
   "language": "python",
   "name": "python3"
  },
  "language_info": {
   "codemirror_mode": {
    "name": "ipython",
    "version": 3
   },
   "file_extension": ".py",
   "mimetype": "text/x-python",
   "name": "python",
   "nbconvert_exporter": "python",
   "pygments_lexer": "ipython3",
   "version": "3.9.13"
  },
  "orig_nbformat": 4,
  "vscode": {
   "interpreter": {
    "hash": "57bc2b6ce032b5f0e93daa91901b7ea38a856826ef43aa9e95b6d3999f5310df"
   }
  }
 },
 "nbformat": 4,
 "nbformat_minor": 2
}
