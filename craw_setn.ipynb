{
 "cells": [
  {
   "cell_type": "code",
   "execution_count": 35,
   "metadata": {},
   "outputs": [],
   "source": [
    "import requests\n",
    "from bs4 import BeautifulSoup\n",
    "import re\n",
    "import pandas as pd\n",
    "import time\n",
    "from tqdm import tqdm_notebook as tqdm\n",
    "\n",
    "def craw_setn(n=10):\n",
    "    data ={'titles':[],'urls':[],'contents':[]}\n",
    "    soup = BeautifulSoup(requests.get('https://www.setn.com/Catalog.aspx?PageGroupID=6').text, 'lxml')\n",
    "    for s in tqdm(soup.find_all('a',pl='熱門新聞')[:n]):\n",
    "        data['titles'].append(s.text) \n",
    "        data['urls'].append('https://www.setn.com' + s['href'])\n",
    "        data['contents'].append(BeautifulSoup(requests.get(data['urls'][-1]).text,'lxml').find_all('article')[0].text)\n",
    "        time.sleep(1)\n",
    "    df = pd.DataFrame()\n",
    "    df['title'] = data['titles']\n",
    "    df['url'] = data['urls']\n",
    "    df['content'] = data['contents']\n",
    "    return df"
   ]
  },
  {
   "cell_type": "code",
   "execution_count": 36,
   "metadata": {},
   "outputs": [
    {
     "name": "stderr",
     "output_type": "stream",
     "text": [
      "C:\\Users\\Administrator\\AppData\\Local\\Temp\\ipykernel_6212\\3438281831.py:11: TqdmDeprecationWarning: This function will be removed in tqdm==5.0.0\n",
      "Please use `tqdm.notebook.tqdm` instead of `tqdm.tqdm_notebook`\n",
      "  for s in tqdm(soup.find_all('a',pl='熱門新聞')[:n]):\n"
     ]
    },
    {
     "data": {
      "application/vnd.jupyter.widget-view+json": {
       "model_id": "e22429f733864115a665e33fa1581eb5",
       "version_major": 2,
       "version_minor": 0
      },
      "text/plain": [
       "  0%|          | 0/10 [00:00<?, ?it/s]"
      ]
     },
     "metadata": {},
     "output_type": "display_data"
    },
    {
     "data": {
      "text/html": [
       "<div>\n",
       "<style scoped>\n",
       "    .dataframe tbody tr th:only-of-type {\n",
       "        vertical-align: middle;\n",
       "    }\n",
       "\n",
       "    .dataframe tbody tr th {\n",
       "        vertical-align: top;\n",
       "    }\n",
       "\n",
       "    .dataframe thead th {\n",
       "        text-align: right;\n",
       "    }\n",
       "</style>\n",
       "<table border=\"1\" class=\"dataframe\">\n",
       "  <thead>\n",
       "    <tr style=\"text-align: right;\">\n",
       "      <th></th>\n",
       "      <th>title</th>\n",
       "      <th>url</th>\n",
       "      <th>content</th>\n",
       "    </tr>\n",
       "  </thead>\n",
       "  <tbody>\n",
       "    <tr>\n",
       "      <th>0</th>\n",
       "      <td>副閣揆內定他　傳小英今徵詢林佳龍任府秘</td>\n",
       "      <td>https://www.setn.com/News.aspx?NewsID=1243754</td>\n",
       "      <td>\\n\\n政治中心／綜合報導總統府昨證實將由前副總統陳建仁組閣，傳副閣揆內定桃園市前市長鄭文燦...</td>\n",
       "    </tr>\n",
       "    <tr>\n",
       "      <th>1</th>\n",
       "      <td>總統27日宣布新閣揆陳建仁　將在這天交接</td>\n",
       "      <td>https://www.setn.com/News.aspx?NewsID=1243701</td>\n",
       "      <td>\\n\\n總統府今（25）日表示，27日上午在總統府舉行記者會，正式宣布前副總統陳建仁接任行政...</td>\n",
       "    </tr>\n",
       "    <tr>\n",
       "      <th>2</th>\n",
       "      <td>外交、國防首長可望留任？黨政高層回應了</td>\n",
       "      <td>https://www.setn.com/News.aspx?NewsID=1243957</td>\n",
       "      <td>\\n\\n總統府今（26）日晚間宣布，前交通部長林佳龍接總統府秘書長、外交部政次蔡明彥接國安局...</td>\n",
       "    </tr>\n",
       "    <tr>\n",
       "      <th>3</th>\n",
       "      <td>小英告知陳建仁組閣　賴清德笑回：謝謝</td>\n",
       "      <td>https://www.setn.com/News.aspx?NewsID=1243763</td>\n",
       "      <td>\\n\\n政治中心／嘉義報導總統府昨證實將由前副總統陳建仁接替蘇貞昌組閣，傳副閣揆內定桃園市前...</td>\n",
       "    </tr>\n",
       "    <tr>\n",
       "      <th>4</th>\n",
       "      <td>新內閣人事名單流出　她揭最大亮點狂讚</td>\n",
       "      <td>https://www.setn.com/News.aspx?NewsID=1243732</td>\n",
       "      <td>\\n\\n政治中心／蔣季容報導▲陳建仁（中）接閣揆，鄭文燦（左）任副閣揆呼聲高。（圖／資料照）...</td>\n",
       "    </tr>\n",
       "    <tr>\n",
       "      <th>5</th>\n",
       "      <td>陳建仁組閣？馬英九：我也聽說了呵呵呵呵</td>\n",
       "      <td>https://www.setn.com/News.aspx?NewsID=1243508</td>\n",
       "      <td>\\n\\n政治中心／台中報導行政院長蘇貞昌1月19日向總統蔡英文提出總辭後，傳出中研院院士、前...</td>\n",
       "    </tr>\n",
       "    <tr>\n",
       "      <th>6</th>\n",
       "      <td>「賴蕭配」前奏？傳蕭美琴回台最新布局曝</td>\n",
       "      <td>https://www.setn.com/News.aspx?NewsID=1243746</td>\n",
       "      <td>\\n\\n記者陳怡潔／台北報導▲「賴蕭配」前奏？傳蕭美琴回台最新布局曝（圖／賴清德辦公室提供）...</td>\n",
       "    </tr>\n",
       "    <tr>\n",
       "      <th>7</th>\n",
       "      <td>新內閣人事名單流出　副閣揆是鄭文燦</td>\n",
       "      <td>https://www.setn.com/News.aspx?NewsID=1243673</td>\n",
       "      <td>\\n\\n政治中心／綜合報導▲新閣揆將由陳建仁接任。（圖／總統府提供）蘇貞昌帶領內閣總辭後，新...</td>\n",
       "    </tr>\n",
       "    <tr>\n",
       "      <th>8</th>\n",
       "      <td>駐美表現優秀　傳蕭美琴返台接外交部長</td>\n",
       "      <td>https://www.setn.com/News.aspx?NewsID=1243664</td>\n",
       "      <td>\\n\\n記者魏汶萱、陳君傑、吳崑榆／台北、南投報導台灣戰貓蕭美琴駐美表現優秀，傳出內閣改組她...</td>\n",
       "    </tr>\n",
       "    <tr>\n",
       "      <th>9</th>\n",
       "      <td>陳明通請辭國安局長　將由「他」接任</td>\n",
       "      <td>https://www.setn.com/News.aspx?NewsID=1243923</td>\n",
       "      <td>\\n\\n政治中心／鄭餘蓉報導▲國安局長陳明通提出請辭，表達希望沉潛休息之意。（圖／資料照）前...</td>\n",
       "    </tr>\n",
       "  </tbody>\n",
       "</table>\n",
       "</div>"
      ],
      "text/plain": [
       "                  title                                            url  \\\n",
       "0   副閣揆內定他　傳小英今徵詢林佳龍任府秘  https://www.setn.com/News.aspx?NewsID=1243754   \n",
       "1  總統27日宣布新閣揆陳建仁　將在這天交接  https://www.setn.com/News.aspx?NewsID=1243701   \n",
       "2   外交、國防首長可望留任？黨政高層回應了  https://www.setn.com/News.aspx?NewsID=1243957   \n",
       "3    小英告知陳建仁組閣　賴清德笑回：謝謝  https://www.setn.com/News.aspx?NewsID=1243763   \n",
       "4    新內閣人事名單流出　她揭最大亮點狂讚  https://www.setn.com/News.aspx?NewsID=1243732   \n",
       "5   陳建仁組閣？馬英九：我也聽說了呵呵呵呵  https://www.setn.com/News.aspx?NewsID=1243508   \n",
       "6   「賴蕭配」前奏？傳蕭美琴回台最新布局曝  https://www.setn.com/News.aspx?NewsID=1243746   \n",
       "7     新內閣人事名單流出　副閣揆是鄭文燦  https://www.setn.com/News.aspx?NewsID=1243673   \n",
       "8    駐美表現優秀　傳蕭美琴返台接外交部長  https://www.setn.com/News.aspx?NewsID=1243664   \n",
       "9     陳明通請辭國安局長　將由「他」接任  https://www.setn.com/News.aspx?NewsID=1243923   \n",
       "\n",
       "                                             content  \n",
       "0  \\n\\n政治中心／綜合報導總統府昨證實將由前副總統陳建仁組閣，傳副閣揆內定桃園市前市長鄭文燦...  \n",
       "1  \\n\\n總統府今（25）日表示，27日上午在總統府舉行記者會，正式宣布前副總統陳建仁接任行政...  \n",
       "2  \\n\\n總統府今（26）日晚間宣布，前交通部長林佳龍接總統府秘書長、外交部政次蔡明彥接國安局...  \n",
       "3  \\n\\n政治中心／嘉義報導總統府昨證實將由前副總統陳建仁接替蘇貞昌組閣，傳副閣揆內定桃園市前...  \n",
       "4  \\n\\n政治中心／蔣季容報導▲陳建仁（中）接閣揆，鄭文燦（左）任副閣揆呼聲高。（圖／資料照）...  \n",
       "5  \\n\\n政治中心／台中報導行政院長蘇貞昌1月19日向總統蔡英文提出總辭後，傳出中研院院士、前...  \n",
       "6  \\n\\n記者陳怡潔／台北報導▲「賴蕭配」前奏？傳蕭美琴回台最新布局曝（圖／賴清德辦公室提供）...  \n",
       "7  \\n\\n政治中心／綜合報導▲新閣揆將由陳建仁接任。（圖／總統府提供）蘇貞昌帶領內閣總辭後，新...  \n",
       "8  \\n\\n記者魏汶萱、陳君傑、吳崑榆／台北、南投報導台灣戰貓蕭美琴駐美表現優秀，傳出內閣改組她...  \n",
       "9  \\n\\n政治中心／鄭餘蓉報導▲國安局長陳明通提出請辭，表達希望沉潛休息之意。（圖／資料照）前...  "
      ]
     },
     "metadata": {},
     "output_type": "display_data"
    }
   ],
   "source": [
    "df = craw_setn(n=10)\n",
    "display(df)"
   ]
  },
  {
   "cell_type": "code",
   "execution_count": null,
   "metadata": {},
   "outputs": [],
   "source": []
  }
 ],
 "metadata": {
  "kernelspec": {
   "display_name": "base",
   "language": "python",
   "name": "python3"
  },
  "language_info": {
   "codemirror_mode": {
    "name": "ipython",
    "version": 3
   },
   "file_extension": ".py",
   "mimetype": "text/x-python",
   "name": "python",
   "nbconvert_exporter": "python",
   "pygments_lexer": "ipython3",
   "version": "3.9.13 (main, Aug 25 2022, 23:51:50) [MSC v.1916 64 bit (AMD64)]"
  },
  "orig_nbformat": 4,
  "vscode": {
   "interpreter": {
    "hash": "57bc2b6ce032b5f0e93daa91901b7ea38a856826ef43aa9e95b6d3999f5310df"
   }
  }
 },
 "nbformat": 4,
 "nbformat_minor": 2
}
