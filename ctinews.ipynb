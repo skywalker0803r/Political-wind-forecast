{
 "cells": [
  {
   "cell_type": "code",
   "execution_count": 66,
   "metadata": {},
   "outputs": [],
   "source": [
    "import requests\n",
    "from bs4 import BeautifulSoup\n",
    "import re\n",
    "import pandas as pd\n",
    "import time\n",
    "\n",
    "def craw_ctinews(n=5,sleep_time=3):\n",
    "    soup = BeautifulSoup(requests.get('https://ctinews.com/').text, 'lxml')\n",
    "    titles = []\n",
    "    urls = []\n",
    "    contents = []\n",
    "    for s in soup.find_all('div', class_='base-card__news-title')[:n]:\n",
    "        titles.append(s.text)\n",
    "        urls.append('https://ctinews.com'+re.search('href=\"(.+?)\"', str(s)).group(1))\n",
    "        contents.append(BeautifulSoup(requests.get(url).text,'html.parser').find_all('div',class_='rendered-content em:text-xl leading-normal ck-content')[0].text)\n",
    "        time.sleep(sleep_time)\n",
    "    df = pd.DataFrame()\n",
    "    df['title'] = titles\n",
    "    df['url'] = urls\n",
    "    df['content'] = contents\n",
    "    return df\n",
    "    "
   ]
  },
  {
   "cell_type": "code",
   "execution_count": 67,
   "metadata": {},
   "outputs": [
    {
     "data": {
      "text/html": [
       "<div>\n",
       "<style scoped>\n",
       "    .dataframe tbody tr th:only-of-type {\n",
       "        vertical-align: middle;\n",
       "    }\n",
       "\n",
       "    .dataframe tbody tr th {\n",
       "        vertical-align: top;\n",
       "    }\n",
       "\n",
       "    .dataframe thead th {\n",
       "        text-align: right;\n",
       "    }\n",
       "</style>\n",
       "<table border=\"1\" class=\"dataframe\">\n",
       "  <thead>\n",
       "    <tr style=\"text-align: right;\">\n",
       "      <th></th>\n",
       "      <th>title</th>\n",
       "      <th>url</th>\n",
       "      <th>content</th>\n",
       "    </tr>\n",
       "  </thead>\n",
       "  <tbody>\n",
       "    <tr>\n",
       "      <th>0</th>\n",
       "      <td>初五9大塞車路段一次看！國道5號恐壅塞至隔日凌晨</td>\n",
       "      <td>https://ctinews.com/news/items/kRxA5OOyxD</td>\n",
       "      <td>文／中央社 交通部高速公路局今晚(25)說明，明天高速公路壅塞狀況將較今天趨緩，仍以北向為主...</td>\n",
       "    </tr>\n",
       "    <tr>\n",
       "      <th>1</th>\n",
       "      <td>初四冷爆「初五回溫」全台多雲到晴　北部最高溫20度</td>\n",
       "      <td>https://ctinews.com/news/items/14a1mJbzak</td>\n",
       "      <td>文／中央社 交通部高速公路局今晚(25)說明，明天高速公路壅塞狀況將較今天趨緩，仍以北向為主...</td>\n",
       "    </tr>\n",
       "    <tr>\n",
       "      <th>2</th>\n",
       "      <td>魔獸還在英國爽！雲豹全員收假恢復團練　力拚止敗打出新氣象</td>\n",
       "      <td>https://ctinews.com/news/items/gOnL7OqOxk</td>\n",
       "      <td>文／中央社 交通部高速公路局今晚(25)說明，明天高速公路壅塞狀況將較今天趨緩，仍以北向為主...</td>\n",
       "    </tr>\n",
       "    <tr>\n",
       "      <th>3</th>\n",
       "      <td>影／陳建仁接閣揆不漏口風？　媒體人：他沒那麼單純</td>\n",
       "      <td>https://ctinews.com/news/items/JmxNrOOBx8</td>\n",
       "      <td>文／中央社 交通部高速公路局今晚(25)說明，明天高速公路壅塞狀況將較今天趨緩，仍以北向為主...</td>\n",
       "    </tr>\n",
       "    <tr>\n",
       "      <th>4</th>\n",
       "      <td>影/大新聞大爆卦 周玉蔻抹黑「被證人打臉」竟勝訴！羅智強：不再信司法</td>\n",
       "      <td>https://ctinews.com/news/items/q9WPMOXmam</td>\n",
       "      <td>文／中央社 交通部高速公路局今晚(25)說明，明天高速公路壅塞狀況將較今天趨緩，仍以北向為主...</td>\n",
       "    </tr>\n",
       "  </tbody>\n",
       "</table>\n",
       "</div>"
      ],
      "text/plain": [
       "                                title  \\\n",
       "0            初五9大塞車路段一次看！國道5號恐壅塞至隔日凌晨   \n",
       "1           初四冷爆「初五回溫」全台多雲到晴　北部最高溫20度   \n",
       "2        魔獸還在英國爽！雲豹全員收假恢復團練　力拚止敗打出新氣象   \n",
       "3            影／陳建仁接閣揆不漏口風？　媒體人：他沒那麼單純   \n",
       "4  影/大新聞大爆卦 周玉蔻抹黑「被證人打臉」竟勝訴！羅智強：不再信司法   \n",
       "\n",
       "                                         url  \\\n",
       "0  https://ctinews.com/news/items/kRxA5OOyxD   \n",
       "1  https://ctinews.com/news/items/14a1mJbzak   \n",
       "2  https://ctinews.com/news/items/gOnL7OqOxk   \n",
       "3  https://ctinews.com/news/items/JmxNrOOBx8   \n",
       "4  https://ctinews.com/news/items/q9WPMOXmam   \n",
       "\n",
       "                                             content  \n",
       "0  文／中央社 交通部高速公路局今晚(25)說明，明天高速公路壅塞狀況將較今天趨緩，仍以北向為主...  \n",
       "1  文／中央社 交通部高速公路局今晚(25)說明，明天高速公路壅塞狀況將較今天趨緩，仍以北向為主...  \n",
       "2  文／中央社 交通部高速公路局今晚(25)說明，明天高速公路壅塞狀況將較今天趨緩，仍以北向為主...  \n",
       "3  文／中央社 交通部高速公路局今晚(25)說明，明天高速公路壅塞狀況將較今天趨緩，仍以北向為主...  \n",
       "4  文／中央社 交通部高速公路局今晚(25)說明，明天高速公路壅塞狀況將較今天趨緩，仍以北向為主...  "
      ]
     },
     "execution_count": 67,
     "metadata": {},
     "output_type": "execute_result"
    }
   ],
   "source": [
    "craw_ctinews(n=5,sleep_time=3)"
   ]
  },
  {
   "cell_type": "code",
   "execution_count": null,
   "metadata": {},
   "outputs": [],
   "source": []
  }
 ],
 "metadata": {
  "kernelspec": {
   "display_name": "base",
   "language": "python",
   "name": "python3"
  },
  "language_info": {
   "codemirror_mode": {
    "name": "ipython",
    "version": 3
   },
   "file_extension": ".py",
   "mimetype": "text/x-python",
   "name": "python",
   "nbconvert_exporter": "python",
   "pygments_lexer": "ipython3",
   "version": "3.9.13"
  },
  "orig_nbformat": 4,
  "vscode": {
   "interpreter": {
    "hash": "57bc2b6ce032b5f0e93daa91901b7ea38a856826ef43aa9e95b6d3999f5310df"
   }
  }
 },
 "nbformat": 4,
 "nbformat_minor": 2
}
