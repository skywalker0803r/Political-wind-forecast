{
 "cells": [
  {
   "cell_type": "code",
   "execution_count": 19,
   "metadata": {},
   "outputs": [],
   "source": [
    "import requests\n",
    "from bs4 import BeautifulSoup\n",
    "import re\n",
    "import pandas as pd\n",
    "import time\n",
    "\n",
    "def craw_ctinews(n=5,sleep_time=3):\n",
    "    soup = BeautifulSoup(requests.get('https://ctinews.com/').text, 'lxml')\n",
    "    titles = []\n",
    "    urls = []\n",
    "    contents = []\n",
    "    for s in soup.find_all('div', class_='base-card__news-title')[:n]:\n",
    "        try:\n",
    "            titles.append(s.text)\n",
    "            urls.append('https://ctinews.com'+re.search('href=\"(.+?)\"', str(s)).group(1))\n",
    "            contents.append(BeautifulSoup(requests.get(urls[-1]).text,'html.parser').find_all('div',class_='rendered-content em:text-xl leading-normal ck-content')[0].text)\n",
    "            time.sleep(sleep_time)\n",
    "        except:\n",
    "            titles.append('xxx')\n",
    "            urls.append('xxx')\n",
    "            contents.append('xxx')\n",
    "    df = pd.DataFrame()\n",
    "    df['title'] = titles\n",
    "    df['url'] = urls\n",
    "    df['content'] = contents\n",
    "    return df\n",
    "    "
   ]
  },
  {
   "cell_type": "code",
   "execution_count": 20,
   "metadata": {},
   "outputs": [
    {
     "data": {
      "text/html": [
       "<div>\n",
       "<style scoped>\n",
       "    .dataframe tbody tr th:only-of-type {\n",
       "        vertical-align: middle;\n",
       "    }\n",
       "\n",
       "    .dataframe tbody tr th {\n",
       "        vertical-align: top;\n",
       "    }\n",
       "\n",
       "    .dataframe thead th {\n",
       "        text-align: right;\n",
       "    }\n",
       "</style>\n",
       "<table border=\"1\" class=\"dataframe\">\n",
       "  <thead>\n",
       "    <tr style=\"text-align: right;\">\n",
       "      <th></th>\n",
       "      <th>title</th>\n",
       "      <th>url</th>\n",
       "      <th>content</th>\n",
       "    </tr>\n",
       "  </thead>\n",
       "  <tbody>\n",
       "  </tbody>\n",
       "</table>\n",
       "</div>"
      ],
      "text/plain": [
       "Empty DataFrame\n",
       "Columns: [title, url, content]\n",
       "Index: []"
      ]
     },
     "execution_count": 20,
     "metadata": {},
     "output_type": "execute_result"
    }
   ],
   "source": [
    "craw_ctinews(n=5,sleep_time=3)"
   ]
  },
  {
   "cell_type": "code",
   "execution_count": null,
   "metadata": {},
   "outputs": [],
   "source": []
  }
 ],
 "metadata": {
  "kernelspec": {
   "display_name": "base",
   "language": "python",
   "name": "python3"
  },
  "language_info": {
   "codemirror_mode": {
    "name": "ipython",
    "version": 3
   },
   "file_extension": ".py",
   "mimetype": "text/x-python",
   "name": "python",
   "nbconvert_exporter": "python",
   "pygments_lexer": "ipython3",
   "version": "3.7.16"
  },
  "orig_nbformat": 4,
  "vscode": {
   "interpreter": {
    "hash": "57bc2b6ce032b5f0e93daa91901b7ea38a856826ef43aa9e95b6d3999f5310df"
   }
  }
 },
 "nbformat": 4,
 "nbformat_minor": 2
}
